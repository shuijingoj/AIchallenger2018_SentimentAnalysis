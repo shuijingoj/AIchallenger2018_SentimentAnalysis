{
 "cells": [
  {
   "cell_type": "code",
   "execution_count": 1,
   "metadata": {},
   "outputs": [
    {
     "name": "stderr",
     "output_type": "stream",
     "text": [
      "Using TensorFlow backend.\n"
     ]
    }
   ],
   "source": [
    "#!/usr/bin/env python\n",
    "# -*- coding: utf-8 -*-\n",
    "\n",
    "import config\n",
    "import logging\n",
    "import os\n",
    "import tensorflow as tf\n",
    "import keras.backend.tensorflow_backend as KTF\n",
    "from keras.preprocessing.text import Tokenizer\n",
    "from keras.preprocessing.sequence import pad_sequences\n",
    "from keras import backend as K\n",
    "from sklearn.externals import joblib\n",
    "from util import *\n",
    "from TextCNN import *"
   ]
  },
  {
   "cell_type": "code",
   "execution_count": 2,
   "metadata": {},
   "outputs": [],
   "source": [
    "logging.basicConfig(level=logging.INFO, format='%(asctime)s [%(levelname)s] <%(processName)s> (%(threadName)s) %(message)s')\n",
    "logger = logging.getLogger(__name__)\n",
    "\n",
    "# hyperParameters\n",
    "model_name = 'model.pkl'\n",
    "max_len = 300\n",
    "embedding_dim = 350\n",
    "batch_size = 256\n",
    "epochs = 1\n",
    "end_col = None"
   ]
  },
  {
   "cell_type": "code",
   "execution_count": 3,
   "metadata": {},
   "outputs": [
    {
     "name": "stderr",
     "output_type": "stream",
     "text": [
      "2018-11-02 11:20:02,315 [INFO] <MainProcess> (MainThread) start load data\n",
      "2018-11-02 11:20:03,411 [INFO] <MainProcess> (MainThread) start seg train data\n",
      "Building prefix dict from the default dictionary ...\n",
      "2018-11-02 11:20:03,414 [DEBUG] <MainProcess> (MainThread) Building prefix dict from the default dictionary ...\n",
      "Loading model from cache /tmp/jieba.cache\n",
      "2018-11-02 11:20:03,416 [DEBUG] <MainProcess> (MainThread) Loading model from cache /tmp/jieba.cache\n",
      "Loading model cost 0.512 seconds.\n",
      "2018-11-02 11:20:03,926 [DEBUG] <MainProcess> (MainThread) Loading model cost 0.512 seconds.\n",
      "Prefix dict has been built succesfully.\n",
      "2018-11-02 11:20:03,927 [DEBUG] <MainProcess> (MainThread) Prefix dict has been built succesfully.\n",
      "2018-11-02 11:22:21,347 [INFO] <MainProcess> (MainThread) complete seg train data\n",
      "2018-11-02 11:22:21,348 [INFO] <MainProcess> (MainThread) prepare train format\n",
      "2018-11-02 11:22:44,692 [INFO] <MainProcess> (MainThread) complete formate train data\n"
     ]
    }
   ],
   "source": [
    "#----------------------------load train data---------------------------------\n",
    "logger.info(\"start load data\")\n",
    "train_data_df = load_data_from_csv(config.train_data_path)\n",
    "validate_data_df = load_data_from_csv(config.validate_data_path)\n",
    "\n",
    "content_train = train_data_df.iloc[:, 1]\n",
    "\n",
    "logger.info(\"start seg train data\")\n",
    "content_train = seg_words(content_train)\n",
    "logger.info(\"complete seg train data\")\n",
    "\n",
    "logger.info(\"prepare train format\")\n",
    "# train_data_format = np.asarray([content_train]).T\n",
    "words = []\n",
    "for x in content_train:\n",
    "    for w in x:\n",
    "        words.append(w)\n",
    "max_words = len(set(words))\n",
    "tokenizer = Tokenizer(num_words=max_words)\n",
    "tokenizer.fit_on_texts(content_train)\n",
    "joblib.dump(tokenizer, 'words_tokenizer')      # 保存索引词典\n",
    "data_w = tokenizer.texts_to_sequences(content_train)\n",
    "train_data_format = pad_sequences(data_w, maxlen=max_len)\n",
    "logger.info(\"complete formate train data\")\n",
    "\n",
    "columns = train_data_df.columns.values.tolist()"
   ]
  },
  {
   "cell_type": "code",
   "execution_count": null,
   "metadata": {},
   "outputs": [
    {
     "name": "stderr",
     "output_type": "stream",
     "text": [
      "2018-11-02 11:29:53,322 [INFO] <MainProcess> (MainThread) start train model\n",
      "2018-11-02 11:29:53,378 [INFO] <MainProcess> (MainThread) start train location_traffic_convenience model\n"
     ]
    },
    {
     "name": "stdout",
     "output_type": "stream",
     "text": [
      "Train on 84000 samples, validate on 21000 samples\n",
      "Epoch 1/1\n",
      "84000/84000 [==============================] - 17s 199us/step - loss: 0.4877 - acc: 0.8353 - val_loss: 0.5336 - val_acc: 0.9061\n"
     ]
    },
    {
     "name": "stderr",
     "output_type": "stream",
     "text": [
      "2018-11-02 11:30:10,452 [INFO] <MainProcess> (MainThread) complete train location_traffic_convenience model\n",
      "2018-11-02 11:30:10,453 [INFO] <MainProcess> (MainThread) start save location_traffic_convenience model\n",
      "2018-11-02 11:30:12,804 [INFO] <MainProcess> (MainThread) complete save location_traffic_convenience model\n",
      "2018-11-02 11:30:12,883 [INFO] <MainProcess> (MainThread) start train location_distance_from_business_district model\n"
     ]
    }
   ],
   "source": [
    "# ----------------------------model train---------------------------------\n",
    "logger.info(\"start train model\")\n",
    "\n",
    "for column in columns[2:end_col]:\n",
    "    tf_config = tf.ConfigProto()\n",
    "    tf_config.gpu_options.allow_growth=True   #不全部占满显存, 按需分配\n",
    "    sess = tf.Session(config=tf_config)\n",
    "    KTF.set_session(sess)\n",
    "    \n",
    "    train_label = label2onehot(train_data_df[column])   # 标量label转成onehot\n",
    "    logger.info(\"start train %s model\" % column)\n",
    "    textCNN_model = TextCNN(max_words+1, embedding_dim=embedding_dim, maxlen=max_len)\n",
    "    textCNN_model.compile(optimizer='adam', loss='categorical_crossentropy',metrics=['acc'])\n",
    "    textCNN_model.fit(train_data_format, train_label, epochs=epochs, batch_size=batch_size, validation_split=0.2)\n",
    "    logger.info(\"complete train %s model\" % column)\n",
    "\n",
    "    logger.info(\"start save %s model\"%column)\n",
    "    model_path = config.model_path\n",
    "    if not os.path.exists(model_path):\n",
    "        os.makedirs(model_path)\n",
    "    textCNN_model.save(model_path+model_name+'_%s'%column)    # 保存模型\n",
    "    logger.info(\"complete save %s model\"%column)\n",
    "    \n",
    "    KTF.clear_session()\n",
    "\n",
    "\n",
    "logger.info(\"complete train model\")"
   ]
  },
  {
   "cell_type": "code",
   "execution_count": null,
   "metadata": {},
   "outputs": [],
   "source": [
    "# ----------------------------validation---------------------------------\n",
    "content_validata = validate_data_df.iloc[:, 1]\n",
    "\n",
    "logger.info(\"start seg validata data\")\n",
    "content_validata = seg_words(content_validata)\n",
    "logger.info(\"complete seg validata data\")\n",
    "\n",
    "logger.info(\"prepare valid format\")\n",
    "# validata_data_format = np.asarray([content_validata]).T\n",
    "data_w = tokenizer.texts_to_sequences(content_validata)\n",
    "validata_data_format = pad_sequences(data_w, maxlen=max_len)\n",
    "logger.info(\"complete formate valid data\")\n",
    "\n",
    "logger.info(\"start compute f1 score for validata model\")\n",
    "f1_score_dict = dict()\n",
    "for column in columns[2:end_col]:\n",
    "    true_label = np.asarray(validate_data_df[column])\n",
    "    classifier = load_model(model_path+model_name+'_%s'%column)\n",
    "    pred_label = []\n",
    "    valid_batch = 1000          # 预测时限制每轮样本数\n",
    "    for i in range(int((len(validata_data_format)-1)/valid_batch)+1):\n",
    "        tail = (i+1)*valid_batch\n",
    "        if tail >= len(validata_data_format):                    # 最后一批验证样本\n",
    "            tail = None\n",
    "        label = classifier.predict(validata_data_format[i*valid_batch:tail])\n",
    "        pred_label+=onehot2label(label).tolist()\n",
    "    pred_label = np.asarray(pred_label)\n",
    "    f1_score = get_f1_score(true_label, pred_label)\n",
    "    f1_score_dict[column] = f1_score\n",
    "\n",
    "f1_score = np.mean(list(f1_score_dict.values()))\n",
    "str_score = \"\\n\"\n",
    "for column in columns[2:end_col]:\n",
    "    str_score += column + \":\" + str(f1_score_dict[column]) + \"\\n\"\n",
    "\n",
    "logger.info(\"f1_scores: %s\\n\" % str_score)\n",
    "logger.info(\"f1_score: %s\" % f1_score)\n",
    "logger.info(\"complete compute f1 score for validate model\")"
   ]
  }
 ],
 "metadata": {
  "kernelspec": {
   "display_name": "Python [conda env:tensorflow]",
   "language": "python",
   "name": "conda-env-tensorflow-py"
  },
  "language_info": {
   "codemirror_mode": {
    "name": "ipython",
    "version": 3
   },
   "file_extension": ".py",
   "mimetype": "text/x-python",
   "name": "python",
   "nbconvert_exporter": "python",
   "pygments_lexer": "ipython3",
   "version": "3.6.6"
  }
 },
 "nbformat": 4,
 "nbformat_minor": 2
}
